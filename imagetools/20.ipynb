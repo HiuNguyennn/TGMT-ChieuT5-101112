{
 "cells": [
  {
   "cell_type": "code",
   "execution_count": 1,
   "id": "ef0a645d-9307-433c-a8ab-3ef55c7a3334",
   "metadata": {},
   "outputs": [],
   "source": [
    "import cv2\n",
    "import numpy as np"
   ]
  },
  {
   "cell_type": "code",
   "execution_count": 69,
   "id": "63702c22-afb8-434a-843a-3cc123fb9781",
   "metadata": {},
   "outputs": [],
   "source": [
    "def display(title, img): \n",
    "    cv2. imshow(title, img)\n",
    "    #chờ một khoảng thời gian\n",
    "    cv2.waitKey(0)\n",
    "    #đóng window\n",
    "    cv2.destroyWindow(title)"
   ]
  },
  {
   "cell_type": "code",
   "execution_count": 71,
   "id": "3e73ecac-4c3a-4d12-95c6-9ffde9af393f",
   "metadata": {},
   "outputs": [],
   "source": [
    "#tạo một ảnh\n",
    "img = np.zeros((400,400,3), dtype=np.uint8)\n",
    "display('Image',img)"
   ]
  },
  {
   "cell_type": "code",
   "execution_count": 73,
   "id": "637c5734-6ede-41d9-a9a6-931c90df26b9",
   "metadata": {},
   "outputs": [],
   "source": [
    "#vẽ đường thẳng\n",
    "cv2.line(img, (50, 50) , (350, 50), (0,0,255), 2)\n",
    "display('Image', img)"
   ]
  },
  {
   "cell_type": "code",
   "execution_count": 77,
   "id": "9b9abd58-68e3-4198-9fb2-8e5fecd17a3f",
   "metadata": {},
   "outputs": [],
   "source": [
    "#vẽ hình tròn\n",
    "cv2.circle(img, (80,80), 50, (0, 255, 0), -1)\n",
    "display('Image', img)"
   ]
  },
  {
   "cell_type": "code",
   "execution_count": 79,
   "id": "55cad0ad-4fd3-4c41-b74e-b7cefe292745",
   "metadata": {},
   "outputs": [],
   "source": [
    "#vẽ hình chữ nhật\n",
    "cv2.rectangle(img, (100,100),(300,300), (255, 0, 0), -1)\n",
    "display('Image', img)"
   ]
  },
  {
   "cell_type": "code",
   "execution_count": 81,
   "id": "2e709701-e6c3-4d3e-805d-a24b0e108c87",
   "metadata": {},
   "outputs": [],
   "source": [
    "#ghi text trên hình ảnh\n",
    "content = 'Nguyen Nhat Hieu'\n",
    "font = cv2.FONT_HERSHEY_SIMPLEX\n",
    "cv2.putText(img, content, (10, 380), font, 0.6, (255, 255, 255), 2)\n",
    "display('Image', img)\n"
   ]
  },
  {
   "cell_type": "code",
   "execution_count": null,
   "id": "5e3e9596-35d8-4c8b-987c-1fcb2f03f49d",
   "metadata": {},
   "outputs": [],
   "source": []
  }
 ],
 "metadata": {
  "kernelspec": {
   "display_name": "Python 3 (ipykernel)",
   "language": "python",
   "name": "python3"
  },
  "language_info": {
   "codemirror_mode": {
    "name": "ipython",
    "version": 3
   },
   "file_extension": ".py",
   "mimetype": "text/x-python",
   "name": "python",
   "nbconvert_exporter": "python",
   "pygments_lexer": "ipython3",
   "version": "3.12.4"
  }
 },
 "nbformat": 4,
 "nbformat_minor": 5
}
