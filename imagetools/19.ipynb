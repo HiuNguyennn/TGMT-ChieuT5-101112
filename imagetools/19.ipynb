{
 "cells": [
  {
   "cell_type": "code",
   "execution_count": 1,
   "id": "a2637453-caab-4506-b491-6fbbfbaf94d7",
   "metadata": {},
   "outputs": [
    {
     "name": "stdout",
     "output_type": "stream",
     "text": [
      "Defaulting to user installation because normal site-packages is not writeable\n",
      "Requirement already satisfied: opencv-python in c:\\users\\hieun\\appdata\\roaming\\python\\python312\\site-packages (4.10.0.84)\n",
      "Requirement already satisfied: numpy>=1.21.2 in c:\\programdata\\anaconda3\\lib\\site-packages (from opencv-python) (1.26.4)\n"
     ]
    }
   ],
   "source": [
    "#!pip install opencv-python"
   ]
  },
  {
   "cell_type": "code",
   "execution_count": 1,
   "id": "55957d69-7894-4c4f-b2f3-66d38c5cf815",
   "metadata": {},
   "outputs": [],
   "source": [
    "def display(title, img):\n",
    "    cv2.imshow(title, img)\n",
    "    #chờ một khoảng thời gian\n",
    "    cv2.waitKey(0)\n",
    "    #đóng window\n",
    "    cv2.destroyWindow(title)"
   ]
  },
  {
   "cell_type": "code",
   "execution_count": 3,
   "id": "293cefd6-1d59-471f-9f22-a9197e8cc002",
   "metadata": {},
   "outputs": [],
   "source": [
    "#import thư viện\n",
    "import cv2"
   ]
  },
  {
   "cell_type": "code",
   "execution_count": 5,
   "id": "4b7d2f1b-1d60-4389-ba85-904dadfd7dc1",
   "metadata": {},
   "outputs": [
    {
     "name": "stdout",
     "output_type": "stream",
     "text": [
      "[[[244 235 222]\n",
      "  [244 235 222]\n",
      "  [244 235 222]\n",
      "  ...\n",
      "  [252 244 237]\n",
      "  [252 244 237]\n",
      "  [252 244 237]]\n",
      "\n",
      " [[244 235 222]\n",
      "  [244 235 222]\n",
      "  [244 235 222]\n",
      "  ...\n",
      "  [252 244 237]\n",
      "  [252 244 237]\n",
      "  [252 244 237]]\n",
      "\n",
      " [[244 235 222]\n",
      "  [244 235 222]\n",
      "  [244 235 222]\n",
      "  ...\n",
      "  [252 244 237]\n",
      "  [252 244 237]\n",
      "  [252 244 237]]\n",
      "\n",
      " ...\n",
      "\n",
      " [[238 223 207]\n",
      "  [238 223 207]\n",
      "  [238 223 207]\n",
      "  ...\n",
      "  [ 61  58  83]\n",
      "  [ 45  44  70]\n",
      "  [ 44  43  69]]\n",
      "\n",
      " [[238 223 207]\n",
      "  [238 223 207]\n",
      "  [238 223 207]\n",
      "  ...\n",
      "  [ 75  72  97]\n",
      "  [ 51  49  78]\n",
      "  [ 35  36  64]]\n",
      "\n",
      " [[238 223 207]\n",
      "  [238 223 207]\n",
      "  [238 223 207]\n",
      "  ...\n",
      "  [ 87  86 112]\n",
      "  [ 57  55  84]\n",
      "  [ 32  32  62]]]\n"
     ]
    }
   ],
   "source": [
    "#đọc ảnh\n",
    "path = 'hinhanhdomat.jpg'\n",
    "img = cv2.imread(path)\n",
    "#in thông tin của ảnh\n",
    "print(img)"
   ]
  },
  {
   "cell_type": "code",
   "execution_count": 7,
   "id": "3703fab1-211d-425f-b8c4-9e153282ace9",
   "metadata": {},
   "outputs": [
    {
     "name": "stdout",
     "output_type": "stream",
     "text": [
      "(540, 800, 3)\n",
      "540\n",
      "800\n",
      "3\n"
     ]
    }
   ],
   "source": [
    "#lấy kích thước\n",
    "print(img.shape)\n",
    "x, y, z = img.shape\n",
    "print(x)\n",
    "print(y)\n",
    "print(z)"
   ]
  },
  {
   "cell_type": "code",
   "execution_count": 9,
   "id": "e1bdf032-36eb-4bf5-ad75-ebc0eeb367e0",
   "metadata": {},
   "outputs": [],
   "source": [
    "#hiển thị ảnh\n",
    "cv2.imshow('Window', img)\n",
    "#chờ một khoảng thời gian\n",
    "cv2.waitKey(10000)\n",
    "#đóng window\n",
    "cv2.destroyWindow('Window')"
   ]
  },
  {
   "cell_type": "code",
   "execution_count": 10,
   "id": "b68342ca-3c5e-41a9-8925-6e08a8d938c5",
   "metadata": {},
   "outputs": [],
   "source": [
    "#tách màu\n",
    "b, g, r = cv2.split(img)\n",
    "cv2.imshow('Window', img)\n",
    "cv2.imshow('Red', r)\n",
    "cv2.imshow('Green', g)\n",
    "cv2.imshow('Blue', b)\n",
    "#chờ một khoảng thời gian \n",
    "cv2.waitKey(0)\n",
    "#đóng window\n",
    "cv2.destroyAllWindows()"
   ]
  },
  {
   "cell_type": "code",
   "execution_count": 11,
   "id": "8d4a1c92-8c0e-418a-a77d-4f2684e6e445",
   "metadata": {},
   "outputs": [],
   "source": [
    "gray_img = cv2.cvtColor(img, cv2.COLOR_BGR2GRAY)\n",
    "img_2 = cv2.cvtColor(img, cv2.COLOR_BGR2RGB)\n",
    "cv2.imshow('Window', img)\n",
    "cv2.imshow('gray_img', gray_img)\n",
    "cv2.imshow('img_2', img_2)\n",
    "#chờ một khoảng thời gian\n",
    "cv2.waitKey(0)\n",
    "#đóng window\n",
    "cv2.destroyAllWindows()"
   ]
  },
  {
   "cell_type": "code",
   "execution_count": 23,
   "id": "a4287bba-cc22-49cf-91c7-dd5e406f6ab6",
   "metadata": {},
   "outputs": [],
   "source": [
    "#thay đổi thông số của điểm ảnh\n",
    "height, width, z = img.shape\n",
    "quater_h = height/2\n",
    "quater_w = width/2\n",
    "\n",
    "#geen color\n",
    "green_color = (0,255,0)\n",
    "\n",
    "#copy ảnh\n",
    "img2 = img.copy()\n",
    "\n",
    "#thay đổi màu của góc 1/4 bên trái trên\n",
    "\n",
    "for y in range(int(quater_h)):\n",
    "    for x in range(int(quater_w)):\n",
    "        img2[y, x] = green_color\n",
    "#hiển thị\n",
    "display('Window', img)\n",
    "display('Window-2', img2)"
   ]
  },
  {
   "cell_type": "code",
   "execution_count": null,
   "id": "8fac2249-27d7-4a66-a4e6-88b1fc7a01d5",
   "metadata": {},
   "outputs": [],
   "source": []
  }
 ],
 "metadata": {
  "kernelspec": {
   "display_name": "Python 3 (ipykernel)",
   "language": "python",
   "name": "python3"
  },
  "language_info": {
   "codemirror_mode": {
    "name": "ipython",
    "version": 3
   },
   "file_extension": ".py",
   "mimetype": "text/x-python",
   "name": "python",
   "nbconvert_exporter": "python",
   "pygments_lexer": "ipython3",
   "version": "3.12.4"
  }
 },
 "nbformat": 4,
 "nbformat_minor": 5
}
