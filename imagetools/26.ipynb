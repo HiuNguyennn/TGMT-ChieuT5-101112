{
 "cells": [
  {
   "cell_type": "code",
   "execution_count": 8,
   "id": "b6d553ed-4fb3-4ee5-89a0-a838548e0423",
   "metadata": {},
   "outputs": [],
   "source": [
    "import cv2\n",
    "import time"
   ]
  },
  {
   "cell_type": "code",
   "execution_count": 9,
   "id": "97a32277-58d3-47db-b8d4-ad602b602db2",
   "metadata": {},
   "outputs": [],
   "source": [
    "def display(title, img):\n",
    "    cv2.imshow(title, img)\n",
    "    #chờ một khoảng thời gian\n",
    "    cv2.waitKey(0)\n",
    "    #đóng window\n",
    "    cv2.destroyWindow(title)"
   ]
  },
  {
   "cell_type": "code",
   "execution_count": 10,
   "id": "778b37a2-d001-4cac-a0b5-38c6414029b3",
   "metadata": {},
   "outputs": [],
   "source": [
    "def detect(img):\n",
    "    #khởi tạo Haar Cascade Classifier cho nhân diện khuôn mặt\n",
    "    face_cascade = cv2.CascadeClassifier('./data/haarcascade_frontalface_default.xml')\n",
    "    eye_cascade = cv2.CascadeClassifier('./data/haarcascade_eye_tree_eyeglasses.xml')\n",
    "    #chuyển sang ảnh xám\n",
    "    gray = cv2.cvtColor(img, cv2.COLOR_BGR2GRAY)\n",
    "    #nhận diện khuôn mặt\n",
    "    faces = face_cascade.detectMultiScale(gray, scaleFactor=1.1, minNeighbors=5, minSize=(30,30))\n",
    "    #nhận diện mắt\n",
    "    eyes = eye_cascade.detectMultiScale(gray, scaleFactor=1.1, minNeighbors=1, minSize=(5,5))\n",
    "    #vẽ hộp chứa khuôn mặt\n",
    "    for (x, y, w, h) in faces:\n",
    "        cv2.rectangle(img, (x, y), (x+w, y+h), (0, 255,0), 2)\n",
    "    #vẽ hộp chứa khuôn mặt\n",
    "    for (x, y, w, h) in eyes:\n",
    "        cv2.rectangle(img, (x, y), (x+w, y+h), (255, 0,0), 2)\n",
    "    #trả về ảnh\n",
    "    return img"
   ]
  },
  {
   "cell_type": "code",
   "execution_count": 17,
   "id": "37e8450d-64df-475e-ad30-5a4f56655cc6",
   "metadata": {},
   "outputs": [],
   "source": [
    "#đọc video từ file\n",
    "camera = cv2.VideoCapture(0)\n",
    "#tạo cửa sổ để hiển thị\n",
    "cv2.namedWindow('Video Player', cv2.WINDOW_NORMAL)\n",
    "#ghi text trên hình ảnh\n",
    "font = cv2.FONT_HERSHEY_SIMPLEX\n",
    "font_color = (255, 255, 255)\n",
    "font_scale = 1\n",
    "font_thicknes = 2\n",
    "#hiển thị từng khung ảnh\n",
    "while True:\n",
    "    #thời gian trước khi đọc\n",
    "    start_time = time.time()\n",
    "    #đọc 1 frame\n",
    "    ret, frame = camera.read()\n",
    "    #thoát khi không thể đọc được frame\n",
    "    if not ret:\n",
    "        break\n",
    "    #thời gian trước khi đọc\n",
    "    end_time = time.time()    \n",
    "    #tính FPS:\n",
    "    fps = 1/(end_time-start_time)\n",
    "    # Detect\n",
    "    frame = detect(frame)\n",
    "    #ghi số lượng fps\n",
    "    cv2.putText(frame, f'FPS: {fps:.2f}', (100, 100), font, font_scale, font_color , font_thicknes)\n",
    "    #hiển thị\n",
    "    cv2.imshow('Video Player', frame)\n",
    "    if(cv2.waitKey(10)==ord('q')):\n",
    "        break\n",
    "\n",
    "#hủy bỏ player\n",
    "camera.release()\n",
    "cv2.destroyAllWindows()"
   ]
  },
  {
   "cell_type": "code",
   "execution_count": null,
   "id": "eac10419-bcb2-4878-a416-d72a48d7f183",
   "metadata": {},
   "outputs": [],
   "source": []
  },
  {
   "cell_type": "code",
   "execution_count": null,
   "id": "e51a307f-99d5-48ef-a36d-b07b7f95bc60",
   "metadata": {},
   "outputs": [],
   "source": []
  }
 ],
 "metadata": {
  "kernelspec": {
   "display_name": "Python 3 (ipykernel)",
   "language": "python",
   "name": "python3"
  },
  "language_info": {
   "codemirror_mode": {
    "name": "ipython",
    "version": 3
   },
   "file_extension": ".py",
   "mimetype": "text/x-python",
   "name": "python",
   "nbconvert_exporter": "python",
   "pygments_lexer": "ipython3",
   "version": "3.12.4"
  }
 },
 "nbformat": 4,
 "nbformat_minor": 5
}
