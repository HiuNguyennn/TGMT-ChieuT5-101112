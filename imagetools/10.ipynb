{
 "cells": [
  {
   "cell_type": "code",
   "execution_count": 1,
   "id": "ae592086-1d00-477a-855a-25f2d6fb987e",
   "metadata": {},
   "outputs": [],
   "source": [
    "#import thư viện\n",
    "from PIL import Image\n",
    "import matplotlib.pyplot as plt"
   ]
  },
  {
   "cell_type": "code",
   "execution_count": 3,
   "id": "cb656d36-7158-449f-9018-913646b7af0c",
   "metadata": {},
   "outputs": [
    {
     "name": "stdout",
     "output_type": "stream",
     "text": [
      "[(139.2177419354839, 69.34677419354838), (138.00806451612905, 68.74193548387098), (181.55645161290323, 72.9758064516129), (132.56451612903228, 103.8225806451613), (157.9677419354839, 49.387096774193566)]\n"
     ]
    }
   ],
   "source": [
    "#đường dẫn ảnh\n",
    "my_path = 'C:/Users/hieun/Downloads/hinhanh/hinhanh0.jpg'\n",
    "#đọc ảnh\n",
    "im = Image.open(my_path)\n",
    "#chuyển đổi backend\n",
    "plt.switch_backend('tkagg')\n",
    "#hiển thị ảnh\n",
    "plt.imshow(im)\n",
    "plt.title('Click on the image to select points')\n",
    "#sử dụng hàm ginput để chọn điểm trên ảnh\n",
    "points = plt.ginput(5)\n",
    "print(points)\n",
    "#hiển thị\n",
    "plt.show()"
   ]
  },
  {
   "cell_type": "code",
   "execution_count": 9,
   "id": "9137bb46-6f21-4102-8ec5-70058233209a",
   "metadata": {},
   "outputs": [],
   "source": [
    "#vẽ lại các điểm đã chọn bằng dấu * màu đỏ\n",
    "plt.close()\n",
    "#vẽ lại\n",
    "plt.imshow(im)\n",
    "for point in points:\n",
    "    x, y = point\n",
    "    plt.plot(x,y, 'r*')\n",
    "plt.show()"
   ]
  },
  {
   "cell_type": "code",
   "execution_count": null,
   "id": "660f79eb-7e94-4da6-97c5-3e8cbedf236b",
   "metadata": {},
   "outputs": [],
   "source": []
  }
 ],
 "metadata": {
  "kernelspec": {
   "display_name": "Python 3 (ipykernel)",
   "language": "python",
   "name": "python3"
  },
  "language_info": {
   "codemirror_mode": {
    "name": "ipython",
    "version": 3
   },
   "file_extension": ".py",
   "mimetype": "text/x-python",
   "name": "python",
   "nbconvert_exporter": "python",
   "pygments_lexer": "ipython3",
   "version": "3.12.4"
  }
 },
 "nbformat": 4,
 "nbformat_minor": 5
}
