{
 "cells": [
  {
   "cell_type": "code",
   "execution_count": 12,
   "id": "b104fe54-30ff-4053-9121-cfd18b09988e",
   "metadata": {},
   "outputs": [],
   "source": [
    "import cv2\n",
    "import time"
   ]
  },
  {
   "cell_type": "code",
   "execution_count": 14,
   "id": "3ae9a97b-6401-41c6-b387-0d8b47cb4185",
   "metadata": {},
   "outputs": [],
   "source": [
    "#đọc video từ file\n",
    "my_video = cv2.VideoCapture('VIDEO1.mp4')"
   ]
  },
  {
   "cell_type": "code",
   "execution_count": 16,
   "id": "8ee2a95e-2294-4030-a29e-66d6ecc3b121",
   "metadata": {},
   "outputs": [],
   "source": [
    "#tạo cửa sổ để hiển thị\n",
    "cv2.namedWindow('Video Player', cv2.WINDOW_NORMAL)"
   ]
  },
  {
   "cell_type": "code",
   "execution_count": 18,
   "id": "d15c3fcd-ca19-45f5-a6d2-2f04902a717d",
   "metadata": {},
   "outputs": [],
   "source": [
    "#ghi text trên hình ảnh\n",
    "font = cv2.FONT_HERSHEY_SIMPLEX\n",
    "font_color = (255, 255, 0)\n",
    "font_scale = 1\n",
    "font_thicknes = 2"
   ]
  },
  {
   "cell_type": "code",
   "execution_count": 20,
   "id": "75412ed6-b3c8-4797-9715-4ea3987ab586",
   "metadata": {},
   "outputs": [
    {
     "ename": "ZeroDivisionError",
     "evalue": "float division by zero",
     "output_type": "error",
     "traceback": [
      "\u001b[1;31m---------------------------------------------------------------------------\u001b[0m",
      "\u001b[1;31mZeroDivisionError\u001b[0m                         Traceback (most recent call last)",
      "Cell \u001b[1;32mIn[20], line 13\u001b[0m\n\u001b[0;32m     11\u001b[0m end_time \u001b[38;5;241m=\u001b[39m time\u001b[38;5;241m.\u001b[39mtime()    \n\u001b[0;32m     12\u001b[0m \u001b[38;5;66;03m#tính FPS:\u001b[39;00m\n\u001b[1;32m---> 13\u001b[0m fps \u001b[38;5;241m=\u001b[39m \u001b[38;5;241m1\u001b[39m\u001b[38;5;241m/\u001b[39m(end_time\u001b[38;5;241m-\u001b[39mstart_time)\n\u001b[0;32m     14\u001b[0m \u001b[38;5;66;03m#ghi số lượng fps\u001b[39;00m\n\u001b[0;32m     15\u001b[0m cv2\u001b[38;5;241m.\u001b[39mputText(frame, \u001b[38;5;124mf\u001b[39m\u001b[38;5;124m'\u001b[39m\u001b[38;5;124mFPS: \u001b[39m\u001b[38;5;132;01m{\u001b[39;00mfps\u001b[38;5;132;01m:\u001b[39;00m\u001b[38;5;124m.2f\u001b[39m\u001b[38;5;132;01m}\u001b[39;00m\u001b[38;5;124m'\u001b[39m, (\u001b[38;5;241m100\u001b[39m, \u001b[38;5;241m100\u001b[39m), font, font_scale, font_color , font_thicknes)\n",
      "\u001b[1;31mZeroDivisionError\u001b[0m: float division by zero"
     ]
    }
   ],
   "source": [
    "#hiển thị từng khung ảnh\n",
    "while True:\n",
    "    #thời gian trước khi đọc\n",
    "    start_time = time.time()\n",
    "    #đọc 1 frame\n",
    "    ret, frame = my_video.read()\n",
    "    #thoát khi không thể đọc được frame\n",
    "    if not ret:\n",
    "        break\n",
    "    #thời gian trước khi đọc\n",
    "    end_time = time.time()    \n",
    "    #tính FPS:\n",
    "    fps = 1/(end_time-start_time)\n",
    "    #ghi số lượng fps\n",
    "    cv2.putText(frame, f'FPS: {fps:.2f}', (100, 100), font, font_scale, font_color , font_thicknes)\n",
    "    #hiển thị\n",
    "    cv2.imshow('Video Player', frame)\n",
    "    if(cv2.waitKey(10)==ord('q')):\n",
    "        break\n",
    "\n",
    "#hủy bỏ player\n",
    "my_video.release()\n",
    "cv2.destroyAllWindows()"
   ]
  },
  {
   "cell_type": "code",
   "execution_count": null,
   "id": "d3ffd74a-2fc7-4ffd-b917-604d0bd1470b",
   "metadata": {},
   "outputs": [],
   "source": []
  }
 ],
 "metadata": {
  "kernelspec": {
   "display_name": "Python 3 (ipykernel)",
   "language": "python",
   "name": "python3"
  },
  "language_info": {
   "codemirror_mode": {
    "name": "ipython",
    "version": 3
   },
   "file_extension": ".py",
   "mimetype": "text/x-python",
   "name": "python",
   "nbconvert_exporter": "python",
   "pygments_lexer": "ipython3",
   "version": "3.12.4"
  }
 },
 "nbformat": 4,
 "nbformat_minor": 5
}
