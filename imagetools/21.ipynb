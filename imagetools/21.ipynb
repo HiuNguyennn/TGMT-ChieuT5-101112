{
 "cells": [
  {
   "cell_type": "code",
   "execution_count": 11,
   "id": "1280ed6e-6029-430c-8413-338b4642ab53",
   "metadata": {},
   "outputs": [],
   "source": [
    "import cv2\n"
   ]
  },
  {
   "cell_type": "code",
   "execution_count": 13,
   "id": "2b4b77fc-2fc0-4b66-abe5-bf6fbceb0355",
   "metadata": {},
   "outputs": [],
   "source": [
    "#đọc video từ file\n",
    "my_video = cv2.VideoCapture('VIDEO1.mp4')"
   ]
  },
  {
   "cell_type": "code",
   "execution_count": 15,
   "id": "c2bb517a-47e4-4b19-b06f-2ca86cbec56b",
   "metadata": {},
   "outputs": [],
   "source": [
    "#tạo cửa sổ để hiển thị\n",
    "cv2.namedWindow('Video Player', cv2.WINDOW_NORMAL)"
   ]
  },
  {
   "cell_type": "code",
   "execution_count": 17,
   "id": "3e5dfdf6-5a98-4388-97c8-6edacc989e38",
   "metadata": {},
   "outputs": [],
   "source": [
    "#hiển thị từng khung ảnh\n",
    "while True:\n",
    "    # Đọc 1 frame\n",
    "    ret, frame = my_video.read()\n",
    "    \n",
    "    # Thoát khi không thể đọc được frame\n",
    "    if not ret:\n",
    "        break\n",
    "    \n",
    "    #hiển thị\n",
    "    cv2.imshow('Video Player', frame)\n",
    "    \n",
    "    if(cv2.waitKey(10)==ord('q')):\n",
    "        break"
   ]
  },
  {
   "cell_type": "code",
   "execution_count": 18,
   "id": "cbe5e244-f3f4-4bba-8273-849df92d79e1",
   "metadata": {},
   "outputs": [],
   "source": [
    "#hủy bỏ player\n",
    "my_video.release\n",
    "cv2.destroyAllWindows()"
   ]
  },
  {
   "cell_type": "code",
   "execution_count": null,
   "id": "696e11a4-448d-4b7d-bc1d-5b4d61efcf16",
   "metadata": {},
   "outputs": [],
   "source": []
  }
 ],
 "metadata": {
  "kernelspec": {
   "display_name": "Python 3 (ipykernel)",
   "language": "python",
   "name": "python3"
  },
  "language_info": {
   "codemirror_mode": {
    "name": "ipython",
    "version": 3
   },
   "file_extension": ".py",
   "mimetype": "text/x-python",
   "name": "python",
   "nbconvert_exporter": "python",
   "pygments_lexer": "ipython3",
   "version": "3.12.4"
  }
 },
 "nbformat": 4,
 "nbformat_minor": 5
}
