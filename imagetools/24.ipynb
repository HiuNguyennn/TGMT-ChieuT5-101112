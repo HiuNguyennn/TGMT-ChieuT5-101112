{
 "cells": [
  {
   "cell_type": "code",
   "execution_count": 96,
   "id": "b104fe54-30ff-4053-9121-cfd18b09988e",
   "metadata": {},
   "outputs": [],
   "source": [
    "import cv2\n",
    "import time"
   ]
  },
  {
   "cell_type": "code",
   "execution_count": 98,
   "id": "3ae9a97b-6401-41c6-b387-0d8b47cb4185",
   "metadata": {},
   "outputs": [],
   "source": [
    "#đọc video từ file\n",
    "camera = cv2.VideoCapture(0)"
   ]
  },
  {
   "cell_type": "code",
   "execution_count": 99,
   "id": "8ee2a95e-2294-4030-a29e-66d6ecc3b121",
   "metadata": {},
   "outputs": [],
   "source": [
    "#tạo cửa sổ để hiển thị\n",
    "cv2.namedWindow('Video Player', cv2.WINDOW_NORMAL)\n",
    "# \n",
    "interval = 20\n",
    "count = 0"
   ]
  },
  {
   "cell_type": "code",
   "execution_count": 100,
   "id": "d15c3fcd-ca19-45f5-a6d2-2f04902a717d",
   "metadata": {},
   "outputs": [],
   "source": [
    "#ghi text trên hình ảnh\n",
    "font = cv2.FONT_HERSHEY_SIMPLEX\n",
    "font_color = (255, 255, 0)\n",
    "font_scale = 1\n",
    "font_thicknes = 2"
   ]
  },
  {
   "cell_type": "code",
   "execution_count": 101,
   "id": "75412ed6-b3c8-4797-9715-4ea3987ab586",
   "metadata": {},
   "outputs": [],
   "source": [
    "#hiển thị từng khung ảnh\n",
    "while True:\n",
    "    # Thời gian trước khi đọc\n",
    "    start_time = time.time()\n",
    "    # Đọc 1 frame\n",
    "    ret, frame = camera.read()\n",
    "    #thoát khi không thể đọc được frame\n",
    "    if not ret:\n",
    "        break\n",
    "    #tăng count + 1\n",
    "    count = count + 1\n",
    "    #định kỳ lưu ảnh xuống\n",
    "    if(count%interval==0):\n",
    "        cv2.imwrite(f'./data/image_{count}.jpg', frame)\n",
    "        \n",
    "    #thời gian trước khi đọc\n",
    "    end_time = time.time()    \n",
    "    #tình FPS:\n",
    "    fps = 1/(end_time-start_time)\n",
    "    # Ghi số lượng fps\n",
    "    cv2.putText(frame, f'FPS: {fps:.2f}', (100, 100), font, font_scale, font_color , font_thicknes)\n",
    "    #hiển thị\n",
    "    cv2.imshow('Video Player', frame)\n",
    "    if(cv2.waitKey(10)==ord('q')):\n",
    "        break\n",
    "\n",
    "#hủy bỏ player\n",
    "camera.release()\n",
    "cv2.destroyAllWindows()"
   ]
  },
  {
   "cell_type": "code",
   "execution_count": null,
   "id": "d3ffd74a-2fc7-4ffd-b917-604d0bd1470b",
   "metadata": {},
   "outputs": [],
   "source": []
  },
  {
   "cell_type": "code",
   "execution_count": null,
   "id": "79d4d3e5-1796-4b52-bb01-b5e42d99f848",
   "metadata": {},
   "outputs": [],
   "source": []
  }
 ],
 "metadata": {
  "kernelspec": {
   "display_name": "Python 3 (ipykernel)",
   "language": "python",
   "name": "python3"
  },
  "language_info": {
   "codemirror_mode": {
    "name": "ipython",
    "version": 3
   },
   "file_extension": ".py",
   "mimetype": "text/x-python",
   "name": "python",
   "nbconvert_exporter": "python",
   "pygments_lexer": "ipython3",
   "version": "3.12.4"
  }
 },
 "nbformat": 4,
 "nbformat_minor": 5
}
